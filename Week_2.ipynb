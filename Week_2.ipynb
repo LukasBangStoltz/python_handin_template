{
 "cells": [
  {
   "cell_type": "markdown",
   "metadata": {},
   "source": [
    "# Week 2 handin\n"
   ]
  },
  {
   "cell_type": "markdown",
   "metadata": {},
   "source": [
    "# Status "
   ]
  },
  {
   "cell_type": "markdown",
   "metadata": {},
   "source": [
    "#Finished most of task 1"
   ]
  },
  {
   "cell_type": "markdown",
   "metadata": {},
   "source": [
    "# 1. Create a python file with 3 functions:\n",
    "\n",
    "    A. def print_file_content(file) that can print content of a csv file to the console\n",
    "    B. def write_list_to_file(output_file, lst) that can take a list of tuple and write each element to a new line in file\n",
    "        a. rewrite the function so that it gets an arbitrary number of strings instead of a list\n",
    "    C. def read_csv(input_file) that take a csv file and read each row into a list\n"
   ]
  },
  {
   "cell_type": "code",
   "execution_count": 1,
   "metadata": {},
   "outputs": [
    {
     "name": "stdout",
     "output_type": "stream",
     "text": [
      "Hej med dig, \"ostekaj\"\n",
      "Jeg hedder kaj, \"jens\"\n",
      "Dubi dubi dubi daj, \"karl andersen\"\n",
      "Fodbold er mega sejt, \"wallah\"\n",
      "\n",
      "\n",
      "\n",
      "\n",
      "jens,lars\n",
      "ko,ost\n",
      "t,e,s,t\n",
      "k,o,l,o,r,t\n",
      "r,a,n,s,d,y,r\n",
      "jens,lars\n",
      "ko,ost\n",
      "t,e,s,t\n",
      "k,o,l,o,r,t\n",
      "r,a,n,s,d,y,r\n",
      "jens,lars\n",
      "ko,ost\n",
      "t,e,s,t\n",
      "k,o,l,o,r,t\n",
      "r,a,n,s,d,y,r\n",
      "\n",
      "('jens', 'lars')\n",
      "('ko', 'ost')\n",
      "test\n",
      "kolort\n",
      "ransdyr\n"
     ]
    }
   ],
   "source": [
    "#A\n",
    "import csv\n",
    "\n",
    "filename = './fodbold.csv'\n",
    "\n",
    "def print_file(file_name):\n",
    "    with open(file_name) as file_object:\n",
    "        contents = file_object.read()\n",
    "        print(contents)\n",
    "        \n",
    "print_file(filename)\n",
    "\n",
    "#B\n",
    "\n",
    "def write_list_to_file(output_file, lst):\n",
    "    \n",
    "    with open(output_file, \"a\") as fp:\n",
    "\n",
    "        write = csv.writer(fp, dialect='excel')\n",
    "        for element in lst:\n",
    "            write.writerow(element)\n",
    "            print(element)\n",
    "    \n",
    "    \n",
    "random_list = [(\"jens\", \"lars\"), (\"ko\", \"ost\"), ]\n",
    "write_list_to_file(filename, random_list)\n",
    "\n",
    "#a.\n",
    "def write_arb_to_file(output_file, *strings):\n",
    "    string_list = list(strings)  \n",
    "    \n",
    "    \n",
    "    with open(output_file, \"a\") as fp:\n",
    "\n",
    "        write = csv.writer(fp, dialect='excel')\n",
    "        for element in string_list:\n",
    "            write.writerow(element)\n",
    "            print(element)\n",
    "        \n",
    "write_arb_to_file(filename, \"test\", \"kolort\", \"ransdyr\")\n",
    "        \n",
    "\n",
    "\n",
    "\n",
    "\n",
    "    "
   ]
  },
  {
   "cell_type": "code",
   "execution_count": null,
   "metadata": {},
   "outputs": [],
   "source": []
  },
  {
   "cell_type": "code",
   "execution_count": 2,
   "metadata": {},
   "outputs": [],
   "source": [
    "#C"
   ]
  },
  {
   "cell_type": "markdown",
   "metadata": {},
   "source": [
    "# 2. Add a functionality so that the file can be called from cli with 2 arguments\n",
    "\n",
    "    A. path to csv file\n",
    "    B. an argument --file file_name that if given will write the content to file_name or otherwise will print it to the console.\n"
   ]
  },
  {
   "cell_type": "code",
   "execution_count": null,
   "metadata": {},
   "outputs": [],
   "source": []
  },
  {
   "cell_type": "markdown",
   "metadata": {},
   "source": [
    "# 3. Add a --help cli argument to describe how the module is used "
   ]
  }
 ],
 "metadata": {
  "kernelspec": {
   "display_name": "Python 3",
   "language": "python",
   "name": "python3"
  },
  "language_info": {
   "codemirror_mode": {
    "name": "ipython",
    "version": 3
   },
   "file_extension": ".py",
   "mimetype": "text/x-python",
   "name": "python",
   "nbconvert_exporter": "python",
   "pygments_lexer": "ipython3",
   "version": "3.7.6"
  }
 },
 "nbformat": 4,
 "nbformat_minor": 4
}
