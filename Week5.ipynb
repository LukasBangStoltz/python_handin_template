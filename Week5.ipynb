{
 "cells": [
  {
   "cell_type": "code",
   "execution_count": 1,
   "metadata": {},
   "outputs": [
    {
     "data": {
      "text/plain": [
       "0.272806258451512"
      ]
     },
     "execution_count": 1,
     "metadata": {},
     "output_type": "execute_result"
    }
   ],
   "source": [
    "import pandas as pd \n",
    "url1 = 'https://api.statbank.dk/v1/data/FOLK1A/CSV?delimiter=Semicolon&Tid=2008K1%2C2008K2%2C2008K3%2C2008K4%2C2020K1%2C2020K2%2C2020K3%2C2020K4&CIVILSTAND=F'\n",
    "dst1 = pd.read_csv(url1, sep=\";\")\n",
    "\n",
    "list_2008 = list(dst1.iloc[0:4]['INDHOLD'])\n",
    "list_2020 = list(dst1.iloc[4:8]['INDHOLD'])\n",
    "\n",
    "summed_2008 = sum(list_2008)\n",
    "summed_2020 = sum(list_2020)\n",
    "\n",
    "pct_diff = (summed_2020-summed_2008)/summed_2008\n",
    "pct_diff\n",
    "\n",
    "\n",
    "\n",
    "\n",
    "\n",
    "\n",
    "\n",
    "\n",
    "\n",
    "\n",
    "\n",
    "    \n",
    "\n"
   ]
  },
  {
   "cell_type": "code",
   "execution_count": 31,
   "metadata": {
    "scrolled": true
   },
   "outputs": [
    {
     "data": {
      "text/plain": [
       "{'Region Sjælland': 58.309611917639245,\n",
       " 'Region Hovedstaden': 52.751347085057986,\n",
       " 'Region Midtjylland': 49.265497534568816,\n",
       " 'København': 49.26345808667489,\n",
       " 'Region Syddanmark': 46.44948716586066}"
      ]
     },
     "execution_count": 31,
     "metadata": {},
     "output_type": "execute_result"
    }
   ],
   "source": [
    "import pandas as pd \n",
    "\n",
    "url1 = 'https://api.statbank.dk/v1/data/FOLK1A/CSV?delimiter=Semicolon&OMR%C3%85DE=*&CIVILSTAND=U&Tid=2020K1'\n",
    "url2 = 'https://api.statbank.dk/v1/data/FOLK1A/CSV?delimiter=Semicolon&OMR%C3%85DE=*&Tid=2020K1&CIVILSTAND=TOT'\n",
    "dst3 = pd.read_csv(url2, sep=\";\")\n",
    "dst2 = pd.read_csv(url1, sep=\";\")\n",
    "\n",
    "sorted_dst2 = dst2.sort_values(by=[\"INDHOLD\"], ascending=False)\n",
    "\n",
    "ugift = list(sorted_dst2.iloc[1:6][\"INDHOLD\"])\n",
    "ugift\n",
    "\n",
    "sorted_dst3 = dst3.sort_values(by=[\"INDHOLD\"], ascending=False)\n",
    "\n",
    "alle = list(sorted_dst3.iloc[1:6][\"INDHOLD\"])\n",
    "alle\n",
    "pct_array = []\n",
    "for element in range(5):\n",
    "    pct_dif = ugift[element]/alle[element]*100\n",
    "    pct_array.append(pct_dif)\n",
    "    \n",
    "lande = list(sorted_dst2.iloc[1:6][\"OMRÅDE\"])\n",
    "\n",
    "my_dict = dict(zip( lande, pct_array))\n",
    "\n",
    "sorted_dict = {k: v for k, v in sorted(my_dict.items(), key=lambda item: item[1], reverse=True)}\n",
    "sorted_dict\n",
    "\n",
    "\n"
   ]
  },
  {
   "cell_type": "code",
   "execution_count": null,
   "metadata": {},
   "outputs": [],
   "source": []
  }
 ],
 "metadata": {
  "kernelspec": {
   "display_name": "Python 3",
   "language": "python",
   "name": "python3"
  },
  "language_info": {
   "codemirror_mode": {
    "name": "ipython",
    "version": 3
   },
   "file_extension": ".py",
   "mimetype": "text/x-python",
   "name": "python",
   "nbconvert_exporter": "python",
   "pygments_lexer": "ipython3",
   "version": "3.7.6"
  }
 },
 "nbformat": 4,
 "nbformat_minor": 4
}
