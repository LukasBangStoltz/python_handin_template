{
 "cells": [
  {
   "cell_type": "markdown",
   "metadata": {},
   "source": [
    "# EX1\n"
   ]
  },
  {
   "cell_type": "markdown",
   "metadata": {},
   "source": [
    "# task 1-5"
   ]
  },
  {
   "cell_type": "code",
   "execution_count": 1,
   "metadata": {},
   "outputs": [
    {
     "name": "stdout",
     "output_type": "stream",
     "text": [
      "[12, 7, 4]\n"
     ]
    }
   ],
   "source": [
    "from modules import classes as cs\n",
    "course1 = cs.Course(\"test2\", \"test2\", \"test3\", \"test4\", 12)\n",
    "course2 = cs.Course(\"test3\", \"test2\", \"test3\", \"test4\", 7)\n",
    "course3 = cs.Course(\"test4\", \"test2\", \"test3\", \"test4\", 4)\n",
    "\n",
    "sheet = cs.DataSheet([course1, course2, course3])\n",
    "\n",
    "grade_list = sheet.get_grades_as_list()\n",
    "print(grade_list)"
   ]
  },
  {
   "cell_type": "code",
   "execution_count": 2,
   "metadata": {},
   "outputs": [
    {
     "name": "stdout",
     "output_type": "stream",
     "text": [
      "7.666666666666667\n"
     ]
    }
   ],
   "source": [
    "from modules import classes as cs\n",
    "student = cs.Student(\"Lars\", \"Mand\", sheet, \"img\")\n",
    "\n",
    "print(student.get_avg_grade())\n"
   ]
  },
  {
   "cell_type": "code",
   "execution_count": 3,
   "metadata": {},
   "outputs": [],
   "source": [
    "cs.generate_students(4)"
   ]
  },
  {
   "cell_type": "code",
   "execution_count": 4,
   "metadata": {
    "scrolled": false
   },
   "outputs": [
    {
     "name": "stdout",
     "output_type": "stream",
     "text": [
      "John Crabtree\n",
      "jtrgzlalodgmjok\n",
      "7.0\n",
      "Alvin Gonzalez\n",
      "lyjoptbnenqljpd\n",
      "7.0\n",
      "Suzanne Cutright\n",
      "xtfvkwoilmufrqu\n",
      "4.0\n",
      "Rita Barrier\n",
      "whlflbvqiykcyxg\n",
      "0.0\n",
      "Lawrence Lankford\n",
      "wywprhuhkywrddr\n",
      "7.0\n",
      "Jimmy Kaszynski\n",
      "doxbbjjhropihhi\n",
      "2.0\n",
      "Luther Thibault\n",
      "gawoxngfopmfhiy\n",
      "4.0\n",
      "Wilma Silva\n",
      "lgpgsoisvkyzxle\n",
      "10.0\n",
      "William Wall\n",
      "vtqdoykfqnbthfu\n",
      "-3.0\n",
      "Terrence Bess\n",
      "usnzustgypvdblk\n",
      "2.0\n",
      "Sherry Charles\n",
      "ajalpeyjuqekjvj\n",
      "0.0\n",
      "Dwight Herandez\n",
      "jtyrsxprchdymdj\n",
      "12.0\n",
      "Alice North\n",
      "mkrngehszgnylcu\n",
      "12.0\n",
      "Brenda Sisson\n",
      "kvlgcvsxramjqtg\n",
      "-3.0\n",
      "Tim Billups\n",
      "qlzdpyaaogcuhcq\n",
      "2.0\n",
      "Harvey Sneed\n",
      "ijpmpxwminjeckx\n",
      "7.0\n",
      "Shona Forson\n",
      "zvonhxswdtadrqb\n",
      "4.0\n",
      "Dorothy Ramos\n",
      "sscnzdpfocahgqt\n",
      "7.0\n",
      "Ruth Brown\n",
      "lcipxqykhzathlf\n",
      "12.0\n",
      "Aracely Abrams\n",
      "rdygymfprabuvqj\n",
      "12.0\n",
      "Kenneth Bowens\n",
      "tthhjixtzchphhs\n",
      "4.0\n",
      "Christopher Edge\n",
      "fptghpfvtseqayu\n",
      "0.0\n",
      "Wayne Hayne\n",
      "dcmatxhemqtmtug\n",
      "-3.0\n",
      "Crystal Davis\n",
      "vlwziekcuotluip\n",
      "-3.0\n",
      "Timothy Sheffield\n",
      "jpnoitmlmuxwaoq\n",
      "-3.0\n",
      "Daniel Thomas\n",
      "gkrhwxhirasrsny\n",
      "0.0\n",
      "Gregory Williams\n",
      "inimtzhlbcymudz\n",
      "12.0\n",
      "Pauline Jacques\n",
      "fdbaxolisrrndrp\n",
      "2.0\n",
      "Richard Dunnings\n",
      "unjrkqftzozugrl\n",
      "0.0\n",
      "Brian Seamans\n",
      "bmgeaomqmhxdmhk\n",
      "0.0\n",
      "Bert Brooks\n",
      "mrgbodspcvrvlvb\n",
      "4.0\n",
      "Joseph Ward\n",
      "wdvkvfwmbgmlgrd\n",
      "-3.0\n"
     ]
    }
   ],
   "source": [
    "students = cs.read_students_to_list()\n",
    "for student in students:\n",
    "    print(student.name)\n",
    "    print(student.image_url)\n",
    "    print(student.get_avg_grade())\n",
    "    \n",
    "        \n"
   ]
  },
  {
   "cell_type": "code",
   "execution_count": 7,
   "metadata": {},
   "outputs": [
    {
     "name": "stdout",
     "output_type": "stream",
     "text": [
      "Dwight Herandez\n",
      "jtyrsxprchdymdj\n",
      "12.0\n",
      "Alice North\n",
      "mkrngehszgnylcu\n",
      "12.0\n",
      "Ruth Brown\n",
      "lcipxqykhzathlf\n",
      "12.0\n",
      "Aracely Abrams\n",
      "rdygymfprabuvqj\n",
      "12.0\n",
      "Gregory Williams\n",
      "inimtzhlbcymudz\n",
      "12.0\n",
      "Wilma Silva\n",
      "lgpgsoisvkyzxle\n",
      "10.0\n",
      "John Crabtree\n",
      "jtrgzlalodgmjok\n",
      "7.0\n",
      "Alvin Gonzalez\n",
      "lyjoptbnenqljpd\n",
      "7.0\n",
      "Lawrence Lankford\n",
      "wywprhuhkywrddr\n",
      "7.0\n",
      "Harvey Sneed\n",
      "ijpmpxwminjeckx\n",
      "7.0\n",
      "Dorothy Ramos\n",
      "sscnzdpfocahgqt\n",
      "7.0\n",
      "Suzanne Cutright\n",
      "xtfvkwoilmufrqu\n",
      "4.0\n",
      "Luther Thibault\n",
      "gawoxngfopmfhiy\n",
      "4.0\n",
      "Shona Forson\n",
      "zvonhxswdtadrqb\n",
      "4.0\n",
      "Kenneth Bowens\n",
      "tthhjixtzchphhs\n",
      "4.0\n",
      "Bert Brooks\n",
      "mrgbodspcvrvlvb\n",
      "4.0\n",
      "Jimmy Kaszynski\n",
      "doxbbjjhropihhi\n",
      "2.0\n",
      "Terrence Bess\n",
      "usnzustgypvdblk\n",
      "2.0\n",
      "Tim Billups\n",
      "qlzdpyaaogcuhcq\n",
      "2.0\n",
      "Pauline Jacques\n",
      "fdbaxolisrrndrp\n",
      "2.0\n",
      "Rita Barrier\n",
      "whlflbvqiykcyxg\n",
      "0.0\n",
      "Sherry Charles\n",
      "ajalpeyjuqekjvj\n",
      "0.0\n",
      "Christopher Edge\n",
      "fptghpfvtseqayu\n",
      "0.0\n",
      "Daniel Thomas\n",
      "gkrhwxhirasrsny\n",
      "0.0\n",
      "Richard Dunnings\n",
      "unjrkqftzozugrl\n",
      "0.0\n",
      "Brian Seamans\n",
      "bmgeaomqmhxdmhk\n",
      "0.0\n",
      "William Wall\n",
      "vtqdoykfqnbthfu\n",
      "-3.0\n",
      "Brenda Sisson\n",
      "kvlgcvsxramjqtg\n",
      "-3.0\n",
      "Wayne Hayne\n",
      "dcmatxhemqtmtug\n",
      "-3.0\n",
      "Crystal Davis\n",
      "vlwziekcuotluip\n",
      "-3.0\n",
      "Timothy Sheffield\n",
      "jpnoitmlmuxwaoq\n",
      "-3.0\n",
      "Joseph Ward\n",
      "wdvkvfwmbgmlgrd\n",
      "-3.0\n"
     ]
    }
   ],
   "source": [
    "test = cs.sorted_list()\n",
    "for student in test:\n",
    "    print(student.name)\n",
    "    print(student.image_url)\n",
    "    print(student.get_avg_grade())"
   ]
  },
  {
   "cell_type": "code",
   "execution_count": null,
   "metadata": {},
   "outputs": [],
   "source": [
    "cs.plot_students()"
   ]
  }
 ],
 "metadata": {
  "kernelspec": {
   "display_name": "Python 3",
   "language": "python",
   "name": "python3"
  },
  "language_info": {
   "codemirror_mode": {
    "name": "ipython",
    "version": 3
   },
   "file_extension": ".py",
   "mimetype": "text/x-python",
   "name": "python",
   "nbconvert_exporter": "python",
   "pygments_lexer": "ipython3",
   "version": "3.7.6"
  }
 },
 "nbformat": 4,
 "nbformat_minor": 4
}
