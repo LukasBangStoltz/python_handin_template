{
 "cells": [
  {
   "cell_type": "code",
   "execution_count": 1,
   "metadata": {},
   "outputs": [
    {
     "name": "stdout",
     "output_type": "stream",
     "text": [
      "Indre By\n",
      "51937\n",
      "Østerbro\n",
      "75113\n",
      "Nørrebro\n",
      "78802\n",
      "Vesterbro/Kgs. Enghave\n",
      "61623\n",
      "Valby\n",
      "51727\n",
      "Vanløse\n",
      "39537\n",
      "Brønshøj-Husum\n",
      "43908\n",
      "Bispebjerg\n",
      "53604\n",
      "Amager Øst\n",
      "55205\n",
      "Amager Vest\n",
      "64967\n",
      "Udenfor\n",
      "3872\n",
      "People above 65 in cph areas:  55700\n",
      "People above 65 outside of DK:  3437\n"
     ]
    },
    {
     "data": {
      "image/png": "[encoded data removed]",
      "text/plain": [
       "<Figure size 432x288 with 1 Axes>"
      ]
     },
     "metadata": {
      "needs_background": "light"
     },
     "output_type": "display_data"
    }
   ],
   "source": [
    "from modules import Ex1_week4 as ex1\n",
    "\n",
    "ex1.getPubInArea()\n",
    "ex1.plotCitys()\n",
    "ex1.findOldPeople()\n",
    "ex1.findOldPeopleNotDK()\n"
   ]
  },
  {
   "cell_type": "code",
   "execution_count": null,
   "metadata": {},
   "outputs": [],
   "source": [
    "ex1.changeØ()"
   ]
  }
 ],
 "metadata": {
  "kernelspec": {
   "display_name": "Python 3",
   "language": "python",
   "name": "python3"
  },
  "language_info": {
   "codemirror_mode": {
    "name": "ipython",
    "version": 3
   },
   "file_extension": ".py",
   "mimetype": "text/x-python",
   "name": "python",
   "nbconvert_exporter": "python",
   "pygments_lexer": "ipython3",
   "version": "3.7.6"
  }
 },
 "nbformat": 4,
 "nbformat_minor": 4
}
