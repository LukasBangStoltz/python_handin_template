{
 "cells": [
  {
   "cell_type": "code",
   "execution_count": 2,
   "metadata": {
    "scrolled": true
   },
   "outputs": [
    {
     "name": "stdout",
     "output_type": "stream",
     "text": [
      "\n",
      " \r\n",
      "Biler\n",
      "\n",
      "\n",
      " \r\n",
      "Camping\n",
      "\n",
      "\n",
      " \r\n",
      "Biltilbehør\n",
      "\n",
      "\n",
      " \r\n",
      "Boliger\n",
      "\n",
      "\n",
      " \r\n",
      "Have og byg\n",
      "\n",
      "\n",
      " \r\n",
      "Til boligen\n",
      "\n",
      "\n",
      " \r\n",
      "Til børn\n",
      "\n",
      "\n",
      " \r\n",
      "Tøj og mode\n",
      "\n",
      "\n",
      " \r\n",
      "Sport og fritid\n",
      "\n",
      "\n",
      " \r\n",
      "Både\n",
      "\n",
      "\n",
      " \r\n",
      "Cykler\n",
      "\n",
      "\n",
      " \r\n",
      "Hobby\n",
      "\n",
      "\n",
      " \r\n",
      "Computer og spillekonsoller\n",
      "\n",
      "\n",
      " \r\n",
      "Mobil og telefoni\n",
      "\n",
      "\n",
      " \r\n",
      "Dyr\n",
      "\n",
      "\n",
      " \r\n",
      "Billede og lyd\n",
      "\n",
      "\n",
      " \r\n",
      "Musikinstrumenter\n",
      "\n",
      "\n",
      " \r\n",
      "Motorcykler og tilbehør\n",
      "\n",
      "\n",
      " \r\n",
      "Scootere og knallerter\n",
      "\n",
      "\n",
      " \r\n",
      "Diverse\n",
      "\n",
      "\n",
      " \r\n",
      "Erhverv\n",
      "\n",
      "\n",
      " \r\n",
      "Job\n",
      "\n",
      "\n",
      " \r\n",
      "Ferie\n",
      "\n",
      "\n",
      " \r\n",
      "Billetter\n",
      "\n",
      "\n",
      " \r\n",
      "Bøger og blade\n",
      "\n",
      "\n",
      "\n",
      "Vis alle kategorier\n",
      "\n",
      "\n"
     ]
    }
   ],
   "source": [
    "#Create a BeautifulSoup Object from the link given above\n",
    "#Find all the \"Kategorier\"\n",
    "\n",
    "import bs4\n",
    "import requests\n",
    "\n",
    "request = requests.get('https://www.dba.dk/', headers={'User-Agent': 'Mozilla/5.0'})\n",
    "request.raise_for_status()\n",
    "soup = bs4.BeautifulSoup(request.text, 'html.parser')\n",
    "elems = soup.select('li.single')\n",
    "\n",
    "for elem in elems:\n",
    "    print(elem.text)"
   ]
  },
  {
   "cell_type": "code",
   "execution_count": 2,
   "metadata": {},
   "outputs": [
    {
     "name": "stdout",
     "output_type": "stream",
     "text": [
      "https://www.dba.dk/\n",
      "https://guide.dba.dk\n",
      "https://support.dba.dk/\n",
      "https://www.dba.dk/opret-annonce/\n",
      "https://support.dba.dk/\n",
      "https://info.dba.dk/kontakt/\n",
      "https://jobs.ebayclassifiedsgroup.com/dba\n",
      "https://dba.presscloud.com/nr/#/\n",
      "https://guide.dba.dk\n",
      "https://sikkerhed.dba.dk/\n",
      "https://info.dba.dk/vilkaar/brugervilkaar\n",
      "https://info.dba.dk/vilkaar/annonceringsregler\n",
      "https://info.dba.dk/vilkaar/persondatapolitik\n",
      "https://boost.dba.dk\n",
      "https://www.bilbasen.dk\n",
      "https://www.dba.dk/\n",
      "https://da-dk.facebook.com/dba.dk\n",
      "https://twitter.com/dba_dk\n"
     ]
    }
   ],
   "source": [
    "#Find all the links\n",
    "for link in soup.find_all('a'):\n",
    "    if not str(link.get('href')).startswith('https'):\n",
    "        continue\n",
    "    print(link.get('href'))"
   ]
  },
  {
   "cell_type": "code",
   "execution_count": 3,
   "metadata": {},
   "outputs": [
    {
     "name": "stdout",
     "output_type": "stream",
     "text": [
      "[<selenium.webdriver.firefox.webelement.FirefoxWebElement (session=\"922a89c6-38d6-498e-88bd-039562c05cb1\", element=\"ff8499d6-5a50-495f-b28d-6050975f1922\")>]\n"
     ]
    }
   ],
   "source": [
    "#Use selenium to press the \"Kategory\" link with the name \"biler\"\n",
    "from selenium import webdriver\n",
    "from selenium.webdriver.firefox.options import Options\n",
    "\n",
    "options = Options()\n",
    "options.headless = True\n",
    "browser = webdriver.Firefox(options=options)\n",
    "\n",
    "browser.get('https://www.dba.dk/')\n",
    "browser.implicitly_wait(3)\n",
    "\n",
    "link_to_persons = browser.find_elements_by_link_text('Biler')\n",
    "link_to_persons[0].click()\n",
    "print(link_to_persons)"
   ]
  },
  {
   "cell_type": "code",
   "execution_count": 4,
   "metadata": {},
   "outputs": [
    {
     "name": "stdout",
     "output_type": "stream",
     "text": [
      "{'Grønland ': 1, 'Bornholm ': 18, 'Aalborg ': 636, 'Odense ': 765, 'Aarhus ': 954, 'Fyn ': 2182, 'København og omegn ': 5304, 'Sjælland ': 13190, 'Jylland ': 15746}\n"
     ]
    },
    {
     "data": {
      "text/plain": [
       "([0, 1, 2, 3, 4, 5, 6, 7, 8], <a list of 9 Text major ticklabel objects>)"
      ]
     },
     "execution_count": 4,
     "metadata": {},
     "output_type": "execute_result"
    },
    {
     "data": {
      "image/png": "[encoded data removed]",
      "text/plain": [
       "<Figure size 432x288 with 1 Axes>"
      ]
     },
     "metadata": {
      "needs_background": "light"
     },
     "output_type": "display_data"
    }
   ],
   "source": [
    "import matplotlib.pyplot as plt\n",
    "request = requests.get('https://www.dba.dk/biler', headers={'User-Agent': 'Mozilla/5.0'})\n",
    "request.raise_for_status()\n",
    "soup = bs4.BeautifulSoup(request.text, 'html.parser')\n",
    "\n",
    "\n",
    "\n",
    "all_cars = soup.select('nav.row-fluid small')\n",
    "all_cars.pop(0);\n",
    "all_cars.pop(8)\n",
    "\n",
    "all_cities = soup.select('nav.row-fluid a')\n",
    "city_array = []\n",
    "for city in all_cities:\n",
    "    city_array.append(city.text.split(\"(\")[0])\n",
    "\n",
    "\n",
    "car_array = []\n",
    "\n",
    "\n",
    "for car in all_cars:\n",
    "    car_array.append(car.text.split(\"(\")[1].split(\")\")[0])\n",
    "\n",
    "res = {city_array[i]: int(car_array[i]) for i in range(len(city_array))} \n",
    "sorted_res = {k: v for k, v in sorted(res.items(), key=lambda item: item[1])}\n",
    "print(sorted_res)\n",
    "\n",
    "plt.bar(sorted_res.keys(),sorted_res.values(),width=0.5, align='center')\n",
    "plt.xticks(rotation=45, horizontalalignment='right',fontweight='light')\n"
   ]
  }
 ],
 "metadata": {
  "kernelspec": {
   "display_name": "Python 3",
   "language": "python",
   "name": "python3"
  },
  "language_info": {
   "codemirror_mode": {
    "name": "ipython",
    "version": 3
   },
   "file_extension": ".py",
   "mimetype": "text/x-python",
   "name": "python",
   "nbconvert_exporter": "python",
   "pygments_lexer": "ipython3",
   "version": "3.7.6"
  }
 },
 "nbformat": 4,
 "nbformat_minor": 4
}
