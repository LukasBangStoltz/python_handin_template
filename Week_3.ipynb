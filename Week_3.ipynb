{
 "cells": [
  {
   "cell_type": "markdown",
   "metadata": {},
   "source": [
    "# EX1\n"
   ]
  },
  {
   "cell_type": "markdown",
   "metadata": {},
   "source": [
    "# task 1-5"
   ]
  },
  {
   "cell_type": "code",
   "execution_count": 1,
   "metadata": {},
   "outputs": [
    {
     "name": "stdout",
     "output_type": "stream",
     "text": [
      "[12, 7, 4]\n"
     ]
    }
   ],
   "source": [
    "from modules import classes as cs\n",
    "course1 = cs.Course(\"test2\", \"test2\", \"test3\", \"test4\", 12)\n",
    "course2 = cs.Course(\"test3\", \"test2\", \"test3\", \"test4\", 7)\n",
    "course3 = cs.Course(\"test4\", \"test2\", \"test3\", \"test4\", 4)\n",
    "\n",
    "sheet = cs.DataSheet([course1, course2, course3])\n",
    "\n",
    "grade_list = sheet.get_grades_as_list()\n",
    "print(grade_list)"
   ]
  },
  {
   "cell_type": "markdown",
   "metadata": {},
   "source": [
    "# task 6"
   ]
  },
  {
   "cell_type": "code",
   "execution_count": 2,
   "metadata": {},
   "outputs": [
    {
     "name": "stdout",
     "output_type": "stream",
     "text": [
      "7.666666666666667\n"
     ]
    }
   ],
   "source": [
    "from modules import classes as cs\n",
    "student = cs.Student(\"Lars\", \"Mand\", sheet, \"img\")\n",
    "\n",
    "print(student.get_avg_grade())\n"
   ]
  },
  {
   "cell_type": "markdown",
   "metadata": {},
   "source": [
    "# task 7 "
   ]
  },
  {
   "cell_type": "code",
   "execution_count": 8,
   "metadata": {},
   "outputs": [],
   "source": [
    "cs.generate_students(2)"
   ]
  },
  {
   "cell_type": "markdown",
   "metadata": {},
   "source": [
    "# Task 8"
   ]
  },
  {
   "cell_type": "code",
   "execution_count": 4,
   "metadata": {
    "scrolled": false
   },
   "outputs": [
    {
     "name": "stdout",
     "output_type": "stream",
     "text": [
      "Idell Hong\n",
      "tkkmccluytbjneh\n",
      "4.0\n",
      "Robert Rawdon\n",
      "lnjzewhckrhvagj\n",
      "0.0\n",
      "Beatrice Romo\n",
      "oxglkdvhduedmdw\n",
      "0.0\n",
      "Horacio Bluma\n",
      "gqsaoxewyiqynbt\n",
      "2.0\n"
     ]
    }
   ],
   "source": [
    "students = cs.read_students_to_list()\n",
    "for student in students:\n",
    "    print(student.name)\n",
    "    print(student.image_url)\n",
    "    print(student.get_avg_grade())\n",
    "    \n",
    "        \n"
   ]
  },
  {
   "cell_type": "code",
   "execution_count": 5,
   "metadata": {},
   "outputs": [
    {
     "name": "stdout",
     "output_type": "stream",
     "text": [
      "Idell Hong\n",
      "tkkmccluytbjneh\n",
      "4.0\n",
      "Horacio Bluma\n",
      "gqsaoxewyiqynbt\n",
      "2.0\n",
      "Robert Rawdon\n",
      "lnjzewhckrhvagj\n",
      "0.0\n",
      "Beatrice Romo\n",
      "oxglkdvhduedmdw\n",
      "0.0\n"
     ]
    }
   ],
   "source": [
    "test = cs.sorted_list()\n",
    "for student in test:\n",
    "    print(student.name)\n",
    "    print(student.image_url)\n",
    "    print(student.get_avg_grade())"
   ]
  },
  {
   "cell_type": "code",
   "execution_count": 9,
   "metadata": {},
   "outputs": [
    {
     "data": {
      "image/png": "[encoded data removed]",
      "text/plain": [
       "<Figure size 432x288 with 1 Axes>"
      ]
     },
     "metadata": {
      "needs_background": "light"
     },
     "output_type": "display_data"
    }
   ],
   "source": [
    "cs.plot_students(cs.read_students_to_list())"
   ]
  }
 ],
 "metadata": {
  "kernelspec": {
   "display_name": "Python 3",
   "language": "python",
   "name": "python3"
  },
  "language_info": {
   "codemirror_mode": {
    "name": "ipython",
    "version": 3
   },
   "file_extension": ".py",
   "mimetype": "text/x-python",
   "name": "python",
   "nbconvert_exporter": "python",
   "pygments_lexer": "ipython3",
   "version": "3.7.6"
  }
 },
 "nbformat": 4,
 "nbformat_minor": 4
}
