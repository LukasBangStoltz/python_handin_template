{
 "cells": [
  {
   "cell_type": "markdown",
   "metadata": {},
   "source": [
    "# EX1\n"
   ]
  },
  {
   "cell_type": "markdown",
   "metadata": {},
   "source": [
    "# task 1-5"
   ]
  },
  {
   "cell_type": "code",
   "execution_count": 1,
   "metadata": {},
   "outputs": [
    {
     "name": "stdout",
     "output_type": "stream",
     "text": [
      "[12, 7, 4]\n"
     ]
    }
   ],
   "source": [
    "from modules import classes as cs\n",
    "course1 = cs.Course(\"test2\", \"test2\", \"test3\", \"test4\", 12)\n",
    "course2 = cs.Course(\"test3\", \"test2\", \"test3\", \"test4\", 7)\n",
    "course3 = cs.Course(\"test4\", \"test2\", \"test3\", \"test4\", 4)\n",
    "\n",
    "sheet = cs.DataSheet([course1, course2, course3])\n",
    "\n",
    "grade_list = sheet.get_grades_as_list()\n",
    "print(grade_list)"
   ]
  },
  {
   "cell_type": "code",
   "execution_count": 3,
   "metadata": {},
   "outputs": [
    {
     "data": {
      "text/plain": [
       "7.666666666666667"
      ]
     },
     "execution_count": 3,
     "metadata": {},
     "output_type": "execute_result"
    }
   ],
   "source": [
    "from modules import classes as cs\n",
    "student = cs.Student(\"Lars\", \"Mand\", sheet, \"img\")\n",
    "\n",
    "student.get_avg_grade()\n"
   ]
  }
 ],
 "metadata": {
  "kernelspec": {
   "display_name": "Python 3",
   "language": "python",
   "name": "python3"
  },
  "language_info": {
   "codemirror_mode": {
    "name": "ipython",
    "version": 3
   },
   "file_extension": ".py",
   "mimetype": "text/x-python",
   "name": "python",
   "nbconvert_exporter": "python",
   "pygments_lexer": "ipython3",
   "version": "3.7.6"
  }
 },
 "nbformat": 4,
 "nbformat_minor": 4
}
